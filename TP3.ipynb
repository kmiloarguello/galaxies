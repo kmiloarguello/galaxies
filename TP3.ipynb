{
 "cells": [
  {
   "cell_type": "code",
   "execution_count": 1,
   "id": "9ca23bbc",
   "metadata": {},
   "outputs": [],
   "source": [
    "%load_ext autoreload\n",
    "%autoreload 2"
   ]
  },
  {
   "cell_type": "code",
   "execution_count": 1,
   "id": "7d1fea16",
   "metadata": {},
   "outputs": [
    {
     "name": "stderr",
     "output_type": "stream",
     "text": [
      "/opt/anaconda3/envs/LU3PY232/lib/python3.12/site-packages/tqdm/auto.py:21: TqdmWarning: IProgress not found. Please update jupyter and ipywidgets. See https://ipywidgets.readthedocs.io/en/stable/user_install.html\n",
      "  from .autonotebook import tqdm as notebook_tqdm\n"
     ]
    }
   ],
   "source": [
    "import numpy as np\n",
    "import matplotlib.pyplot as plt\n",
    "from matplotlib.colors import LogNorm\n",
    "import astroalign as aa\n",
    "from astropy.io import fits\n",
    "import processing as  pr\n",
    "from astropy.modeling.functional_models import Sersic1D\n",
    "from astropy.modeling import models, fitting\n",
    "from photutils.centroids import centroid_quadratic"
   ]
  },
  {
   "cell_type": "code",
   "execution_count": 13,
   "id": "e73b08d0",
   "metadata": {},
   "outputs": [],
   "source": [
    "data_dir = \"/Users/laigle/M83_raw_data/\"\n",
    "output_dir = \"/Users/laigle/M83_processed/\""
   ]
  },
  {
   "cell_type": "markdown",
   "id": "98a64d00",
   "metadata": {},
   "source": [
    "### Charge l'image traitée"
   ]
  },
  {
   "cell_type": "code",
   "execution_count": 14,
   "id": "7a21ec24",
   "metadata": {},
   "outputs": [],
   "source": [
    "image = fits.getdata(output_dir + 'image_finale_Ha.fits')"
   ]
  },
  {
   "cell_type": "markdown",
   "id": "b7099150",
   "metadata": {},
   "source": [
    "### Trouver son centre"
   ]
  },
  {
   "cell_type": "code",
   "execution_count": 15,
   "id": "1eef1341",
   "metadata": {},
   "outputs": [],
   "source": [
    "## xpeak and ypeak are the approximate position of the centroid\n",
    "xycen = centroid_quadratic(image, xpeak=2040, ypeak=2100,search_boxsize = 400)"
   ]
  },
  {
   "cell_type": "markdown",
   "id": "1e97b818",
   "metadata": {},
   "source": [
    "### Afficher l'image, et y superposer le centre"
   ]
  },
  {
   "cell_type": "code",
   "execution_count": null,
   "id": "8bd21d7c",
   "metadata": {},
   "outputs": [],
   "source": [
    "plt.imshow(image,vmin=np.mean(image)-np.std(image),vmax = np.mean(image)+np.std(image),cmap='gray')  # subtract the background)\n",
    "plt.scatter(xycen[0],xycen[1],color='red',marker='+')\n",
    "\n",
    "ax = plt.gca()\n",
    "ax.set_xlim(xycen[0]-500,xycen[0]+500)\n",
    "ax.set_ylim(xycen[1]-500,xycen[1]+500)"
   ]
  },
  {
   "cell_type": "markdown",
   "id": "2b93082c",
   "metadata": {},
   "source": [
    "### calculer le profil radial a partir du centre"
   ]
  },
  {
   "cell_type": "code",
   "execution_count": 50,
   "id": "b1aff35c",
   "metadata": {},
   "outputs": [],
   "source": [
    "edge_radii = np.arange(800)\n",
    "rp,pp,errp = pr.RadialProfile(image, xycen, edge_radii)"
   ]
  },
  {
   "cell_type": "markdown",
   "id": "cd1fb52b",
   "metadata": {},
   "source": [
    "### soustraire le fond de ciel de l'image"
   ]
  },
  {
   "cell_type": "code",
   "execution_count": 51,
   "id": "c3bdbd37",
   "metadata": {},
   "outputs": [],
   "source": [
    "background = np.mean(pp[600:])\n",
    "profil = pp-background"
   ]
  },
  {
   "cell_type": "markdown",
   "id": "8a0a9a39",
   "metadata": {},
   "source": [
    "### afficher le profil"
   ]
  },
  {
   "cell_type": "code",
   "execution_count": 52,
   "id": "c89c622f",
   "metadata": {},
   "outputs": [
    {
     "data": {
      "image/png": "[encoded data removed]",
      "text/plain": [
       "<Figure size 432x288 with 1 Axes>"
      ]
     },
     "metadata": {
      "needs_background": "light"
     },
     "output_type": "display_data"
    }
   ],
   "source": [
    "plt.errorbar(rp,profil,yerr = errp,color='black')\n",
    "plt.plot(rp,profil,color='black')\n",
    "axes = plt.gca()\n",
    "axes.set_yscale('log')\n",
    "axes.set_xscale('log')"
   ]
  },
  {
   "cell_type": "markdown",
   "id": "c72e6a7a",
   "metadata": {},
   "source": [
    "### Fitter le profil mesuré avec un double profil de sersic"
   ]
  },
  {
   "cell_type": "code",
   "execution_count": 53,
   "id": "f5c40d6b",
   "metadata": {},
   "outputs": [],
   "source": [
    "g,g2 = pr.fit_sersic(rp,profil,(np.max(profil)/10.,10,1),[0,100],A1_r1_n1=(0,0,0),range1=[100,800])"
   ]
  },
  {
   "cell_type": "markdown",
   "id": "abf547a5",
   "metadata": {},
   "source": [
    "### Afficher le profil mesuré et son meilleur fit "
   ]
  },
  {
   "cell_type": "code",
   "execution_count": null,
   "id": "be060ade",
   "metadata": {},
   "outputs": [],
   "source": [
    "print(g)\n",
    "\n",
    "plt.errorbar(rp,profil,yerr = errp,color='black')\n",
    "plt.plot(rp,profil,color='black')\n",
    "plt.plot(rp,g(rp))\n",
    "axes = plt.gca()\n",
    "\n",
    "axes.set_yscale('log')\n",
    "axes.set_xscale('log')\n",
    "\n",
    "axes.set_ylim(0.01,500)\n",
    "axes.set_xlim(1,2000)\n",
    "axes.grid()\n",
    "axes.set_xlabel('rayon (pixel)',fontsize=16)\n",
    "axes.set_ylabel('brillance de surface',fontsize=16)"
   ]
  },
  {
   "cell_type": "markdown",
   "id": "ea8c31f5",
   "metadata": {},
   "source": [
    "### Recommencer en ajoutant un deuxième profil pour fitter la partie externe"
   ]
  },
  {
   "cell_type": "code",
   "execution_count": null,
   "id": "a42a348f",
   "metadata": {},
   "outputs": [],
   "source": [
    "g,g2 = pr.fit_sersic(rp,profil,(np.max(profil)/10.,10,1),[0,100],A1_r1_n1=(np.max(profil)/100.,100,1),range1=[100,800])"
   ]
  },
  {
   "cell_type": "markdown",
   "id": "957477c5",
   "metadata": {},
   "source": [
    "### Afficher de nouveau les profils "
   ]
  },
  {
   "cell_type": "code",
   "execution_count": null,
   "id": "d0e28004",
   "metadata": {},
   "outputs": [],
   "source": [
    "plt.errorbar(rp,profil,yerr = errp,color='black')\n",
    "plt.plot(rp,profil,color='black')\n",
    "\n",
    "plt.plot(rp,g(rp))\n",
    "plt.plot(rp,g2(rp))\n",
    "plt.plot(rp,g(rp)+g2(rp))\n",
    "axes = plt.gca()\n",
    "print(g2)\n",
    "axes.set_yscale('log')\n",
    "axes.set_xscale('log')\n",
    "\n",
    "axes.set_ylim(0.01,500)\n",
    "axes.set_xlim(1,2000)\n",
    "axes.grid()\n",
    "\n",
    "axes.set_xlabel('rayon (pixel)',fontsize=16)\n",
    "axes.set_ylabel('brillance de surface',fontsize=16)"
   ]
  },
  {
   "cell_type": "code",
   "execution_count": null,
   "id": "f4fcd40e",
   "metadata": {},
   "outputs": [],
   "source": []
  }
 ],
 "metadata": {
  "kernelspec": {
   "display_name": "LU3PY232",
   "language": "python",
   "name": "python3"
  },
  "language_info": {
   "codemirror_mode": {
    "name": "ipython",
    "version": 3
   },
   "file_extension": ".py",
   "mimetype": "text/x-python",
   "name": "python",
   "nbconvert_exporter": "python",
   "pygments_lexer": "ipython3",
   "version": "3.12.2"
  }
 },
 "nbformat": 4,
 "nbformat_minor": 5
}
