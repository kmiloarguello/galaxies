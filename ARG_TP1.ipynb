{
 "cells": [
  {
   "cell_type": "markdown",
   "id": "98f2e96b",
   "metadata": {},
   "source": [
    "# TP Observations Nocturnes - LU3PY232\n",
    "**ARGUELLO Camilo**"
   ]
  },
  {
   "cell_type": "code",
   "execution_count": null,
   "id": "9e1e5e5c",
   "metadata": {},
   "outputs": [],
   "source": [
    "%load_ext autoreload\n",
    "%autoreload 2"
   ]
  },
  {
   "cell_type": "code",
   "execution_count": null,
   "id": "58631e1d",
   "metadata": {},
   "outputs": [],
   "source": [
    "import numpy as np\n",
    "import matplotlib.pyplot as plt\n",
    "from astropy.io import fits\n",
    "from astropy.visualization import astropy_mpl_style\n",
    "plt.style.use(astropy_mpl_style)\n",
    "from utils import pc2m, m2pc, dms2deg, deg2dms, flux2mag, mag2flux, distance_modulus, apparent_to_absolute_flux\n",
    "from constants import ConstantesAstro\n",
    "from matplotlib.colors import LogNorm\n",
    "from astropy.stats import sigma_clip\n",
    "import os \n",
    "import glob\n",
    "#import astroalign as aa\n",
    "from photutils.aperture import aperture_photometry, CircularAperture\n",
    "from photutils.centroids import centroid_quadratic\n",
    "import processing as  pr\n",
    "from IPython.display import display, Math"
   ]
  },
  {
   "cell_type": "markdown",
   "id": "29839275",
   "metadata": {},
   "source": [
    "## 1. Introduction et Contexte"
   ]
  },
  {
   "cell_type": "markdown",
   "id": "2e651933",
   "metadata": {},
   "source": [
    "### Objectifs du TP\n",
    "\n",
    "Ce TP vise à étudier la relation d’échelle entre la taille et la luminosité des galaxies de l’univers proche. \n",
    "Nous allons utiliser des images obtenues à l'aide de télescopes à distance pour :\n",
    "\n",
    "- Calibrer des images photométriques (offset, flat field),\n",
    "- Extraire des informations scientifiques (taille, luminosité),\n",
    "- Comparer les résultats avec les théories d’assemblage galactique."
   ]
  },
  {
   "cell_type": "markdown",
   "id": "ec9b34e0",
   "metadata": {},
   "source": [
    "\n",
    "### Diversité morphologique des galaxies\n",
    "\n",
    "// TODO"
   ]
  },
  {
   "cell_type": "markdown",
   "id": "4bfd66da",
   "metadata": {},
   "source": [
    "### Loi d'échelle taille-luminosité\n",
    "\n",
    "// TODO\n",
    "\n",
    "//  explication des relations taille-masse et leur interprétation physique\n"
   ]
  },
  {
   "cell_type": "markdown",
   "id": "1b7faf4b",
   "metadata": {},
   "source": [
    "### Messier 83\n",
    "// TODO"
   ]
  },
  {
   "cell_type": "markdown",
   "id": "cfe8efef",
   "metadata": {},
   "source": [
    "## 2. Prise en main et visualisation des images de M83"
   ]
  },
  {
   "cell_type": "markdown",
   "id": "fd838976",
   "metadata": {},
   "source": [
    "> Quel est l’ordre de grandeur de la brillance de surface des etoiles ?  la brillance de surface du fond de ciel ? La brillance de surface de la galaxie ? En quelle unit´e est le flux sur ces images non-calibr´ees ?"
   ]
  },
  {
   "cell_type": "code",
   "execution_count": null,
   "id": "c3d9a649",
   "metadata": {},
   "outputs": [],
   "source": [
    "# Données fournies\n",
    "FOCALLEN = 2912            # distance focale en mm\n",
    "XPIXSZ = 9e-3              # taille du pixel en mm (9 microns)\n",
    "distance_Mpc = 4.66        # distance depuis la Terre en Mpc\n",
    "angular_size_arcsec = 600  # taille angulaire mesurée en arcsec\n",
    "\n",
    "# Calcul du plate scale théorique (en arcsec par pixel)\n",
    "plate_scale = 206265 * (XPIXSZ / FOCALLEN)\n",
    "print(f\"Plate scale théorique : {plate_scale:.3f} arcsec/pixel\")\n",
    "\n",
    "# Conversion de la taille angulaire en taille physique\n",
    "# Conversion d'arcsec à radian : 1 rad = 206265 arcsec\n",
    "angular_size_rad = angular_size_arcsec / 206265\n",
    "distance_pc = distance_Mpc * 1e6  # conversion de Mpc à pc\n",
    "size_pc = angular_size_rad * distance_pc\n",
    "size_kpc = size_pc / 1000\n",
    "\n",
    "print(f\"Taille physique de la galaxie : {size_pc:.2f} pc ({size_kpc:.2f} kpc)\")\n",
    "\n",
    "# Estimation approximative de la masse de la galaxie\n",
    "# Pour une galaxie spirale typique, une taille de ~13-15 kpc correspond souvent à une masse de l'ordre de 10^11 Msun.\n",
    "# Cette estimation grossière repose sur des relations empiriques et reste à préciser avec d'autres mesures.\n",
    "estimated_mass = 1e11  # masse en masse solaire (Msun)\n",
    "print(f\"Masse estimée de la galaxie : ~{estimated_mass:.2e} Msun\")"
   ]
  },
  {
   "cell_type": "code",
   "execution_count": null,
   "id": "b234ebb7",
   "metadata": {},
   "outputs": [],
   "source": [
    "red_files = sorted(glob.glob('./M83/M83-Red-*.fit'))\n",
    "blue_files = sorted(glob.glob('./M83/M83-Blue-*.fit'))\n",
    "green_files = sorted(glob.glob('./M83/M83-Green-*.fit'))\n",
    "ha_files = sorted(glob.glob('./M83/M83-HA-*.fit'))\n",
    "\n",
    "# We will plot the first image of each filter\n",
    "index = 0\n",
    "files_to_plot = [red_files[index], blue_files[index], green_files[index], ha_files[index]]\n",
    "\n",
    "fig, axes = plt.subplots(2, len(files_to_plot), figsize=(15, 5), gridspec_kw={'height_ratios': [2, 1]})\n",
    "\n",
    "for ax_img, ax_hist, file in zip(axes[0], axes[1], files_to_plot):\n",
    "    with fits.open(file) as hdulist:\n",
    "        data = hdulist[0].data\n",
    "\n",
    "    im = ax_img.imshow(data, cmap='gray', origin='lower', vmin=np.percentile(data,5) , vmax=np.percentile(data,99))\n",
    "    ax_img.set_title(file.split('-')[1], fontsize=10) \n",
    "    ax_img.axis()\n",
    "    ax_img.grid(False)\n",
    "    ax_img.axis('off')\n",
    "    ax_img.set_anchor('C')\n",
    "    cbar = plt.colorbar(im, ax=ax_img, fraction=0.046, pad=0.04)\n",
    "    if ax_img == axes[0][-1]:\n",
    "        cbar.set_label('ADU', fontsize=10)\n",
    "\n",
    "    # Histogramme\n",
    "    ax_hist.hist(data.flatten(), bins=1000, color='blue')\n",
    "    ax_hist.loglog()\n",
    "    ax_hist.grid(True)\n",
    "    ax_hist.set_xlabel('ADU', fontsize=10)\n",
    "    if ax_hist == axes[1][0]:\n",
    "        ax_hist.set_ylabel('Nombre de pixels', fontsize=10)\n",
    "plt.tight_layout()\n",
    "plt.show()\n"
   ]
  },
  {
   "cell_type": "markdown",
   "id": "7e37b870",
   "metadata": {},
   "source": [
    "> Quelle est la durée de la pose ? Quelle était la date d’observation ?"
   ]
  },
  {
   "cell_type": "markdown",
   "id": "bfc67ad0",
   "metadata": {},
   "source": [
    "> Que pouvez-vous dire de la qualité de cette image ? Quelle est la valeur typique du fond de ciel ?"
   ]
  },
  {
   "cell_type": "code",
   "execution_count": null,
   "id": "a0051962",
   "metadata": {},
   "outputs": [],
   "source": [
    "fond_ciel = tab[100:200, 100:200]  # Un petit carré dans une région vide\n",
    "print(fond_ciel.mean()) # ADU"
   ]
  },
  {
   "cell_type": "markdown",
   "id": "7fbba4e8",
   "metadata": {},
   "source": [
    "> Répondez aux mêmes questions avec une image dans un autre filtre. Que constatez vous ? Faites bien attention à prendre en compte le temps de pose lorsque vous comparez les flux."
   ]
  },
  {
   "cell_type": "markdown",
   "id": "3f9e8690",
   "metadata": {},
   "source": [
    "> Convertissez la taille d’un pixel sur l’image en secondes d’arc puis en kiloparsecs, sachant la distance de cette galaxie (se référer au fichier excel TP 2025 galaxies.xlsx). Justifiez. En le mesurant “à la main”, quel est le rayon caractéristique ce cette galaxie, en `kpc` ?"
   ]
  },
  {
   "cell_type": "markdown",
   "id": "24e38150",
   "metadata": {},
   "source": [
    "## 3. Calibration des images"
   ]
  },
  {
   "cell_type": "markdown",
   "id": "6e7a478f",
   "metadata": {},
   "source": [
    "Qu’apprend-on ? Vérifiez en particulier le temps d’exposition et la taille de l’image"
   ]
  },
  {
   "cell_type": "markdown",
   "id": "dfad4087",
   "metadata": {},
   "source": [
    "### Construction de la pose maitre d’offset"
   ]
  },
  {
   "cell_type": "markdown",
   "id": "92c89e69",
   "metadata": {},
   "source": [
    "Affichez l’histogramme des valeurs des pixels. Autour de quelle valeur se trouvel’offset piédestal ?"
   ]
  },
  {
   "cell_type": "code",
   "execution_count": null,
   "id": "1f433cfd",
   "metadata": {},
   "outputs": [],
   "source": [
    "filename = 'Bias/T32-fetedelascience-Bias-000-LD20230411-LT152814-BIN1.fit'\n",
    "hdul = fits.open(filename)\n",
    "offset_data_bias = hdul[0].data\n",
    "hdul.close()\n",
    "\n",
    "fig, (ax_im, ax_hist) = plt.subplots(1, 2, figsize=(12, 4))\n",
    "\n",
    "im = ax_im.imshow(offset_data_bias, cmap='gray', origin='lower', \n",
    "                   vmin=np.percentile(offset_data_bias, 5), \n",
    "                   vmax=np.percentile(offset_data_bias, 99))\n",
    "ax_im.set_title('Bias (offset)', fontsize=12)\n",
    "ax_im.axis('off')\n",
    "ax_im.grid(False)\n",
    "cbar = fig.colorbar(im, ax=ax_im, fraction=0.046, pad=0.04)\n",
    "cbar.set_label('ADU', fontsize=10)\n",
    "\n",
    "ax_hist.hist(offset_data_bias.flatten(), bins=1000, color='blue')\n",
    "ax_hist.loglog()\n",
    "ax_hist.set_xlabel('ADU', fontsize=10)\n",
    "ax_hist.set_ylabel('Nombre de pixels', fontsize=10)\n",
    "ax_hist.set_title('Histogramme Bias (offset)', fontsize=10)\n",
    "ax_hist.grid(True)\n",
    "\n",
    "plt.tight_layout()\n",
    "plt.show()"
   ]
  },
  {
   "cell_type": "code",
   "execution_count": null,
   "id": "105d9f14",
   "metadata": {},
   "outputs": [],
   "source": [
    "# data_dir = \"/n07data/laigle/data_to_transf/\"\n",
    "output_dir = \"./Processed/\""
   ]
  },
  {
   "cell_type": "code",
   "execution_count": null,
   "id": "9ecf7303",
   "metadata": {},
   "outputs": [],
   "source": [
    "list_bias_name = glob.glob('./Bias/*.fit')\n",
    "print(list_bias_name)"
   ]
  },
  {
   "cell_type": "code",
   "execution_count": null,
   "id": "109162f5",
   "metadata": {},
   "outputs": [],
   "source": [
    "sigma = 5\n",
    "master_bias, master_bias_name, master_bias_no_sigma = pr.master_bias(list_bias_name, out_dir=output_dir, \n",
    "                                              out_name='masterbias.fits', overwrite=1, sigma=sigma, out_master_bias_no_sigma='masterbias_no_sigma.fits')"
   ]
  },
  {
   "cell_type": "code",
   "execution_count": null,
   "id": "bb2f5ab4",
   "metadata": {},
   "outputs": [],
   "source": [
    "# Assume sigma is already defined before!\n",
    "\n",
    "# Files to plot\n",
    "files = [\n",
    "    ('Processed/masterbias.fits', 'Master Bias avec sigma = ', True),\n",
    "    ('Processed/masterbias_no_sigma.fits', 'Master Bias sans sigma', False)\n",
    "]\n",
    "\n",
    "# Load data first\n",
    "data_list = []\n",
    "\n",
    "for filename, _, _ in files:\n",
    "    with fits.open(filename) as hdul:\n",
    "        data = hdul[0].data\n",
    "    data_list.append(data)\n",
    "\n",
    "# Create figure: 2 rows, 3 columns\n",
    "fig, axes = plt.subplots(2, 3, figsize=(18, 8), gridspec_kw={'height_ratios': [2, 1]})\n",
    "\n",
    "# Plot images and individual histograms\n",
    "for i, (data, (filename, title_prefix, has_sigma)) in enumerate(zip(data_list, files)):\n",
    "    ax_img = axes[0, i]\n",
    "    ax_hist = axes[1, i]\n",
    "\n",
    "    im = ax_img.imshow(data, cmap='gray', origin='lower', \n",
    "                       vmin=np.percentile(data, 5), vmax=np.percentile(data, 95))\n",
    "    fig.colorbar(im, ax=ax_img, fraction=0.046, pad=0.04)\n",
    "    ax_img.axis('off')\n",
    "    ax_img.set_anchor('C')\n",
    "    if has_sigma:\n",
    "        ax_img.set_title(title_prefix + str(sigma), fontsize=10)\n",
    "    else:\n",
    "        ax_img.set_title(title_prefix, fontsize=10)\n",
    "\n",
    "    ax_hist.hist(data.flatten(), bins=1000, color='blue')\n",
    "    ax_hist.set_xscale('log')\n",
    "    ax_hist.set_yscale('log')\n",
    "    ax_hist.set_xlabel('ADU', fontsize=10)\n",
    "    ax_hist.set_ylabel('N', fontsize=10)\n",
    "    if has_sigma:\n",
    "        ax_hist.set_title('Hist avec sigma = ' + str(sigma), fontsize=10)\n",
    "    else:\n",
    "        ax_hist.set_title('Hist sans sigma', fontsize=10)\n",
    "    ax_hist.grid()\n",
    "\n",
    "# Superposed histograms (bottom right cell)\n",
    "colors = ['red', 'green']\n",
    "labels = ['Avec sigma', 'Sans sigma']\n",
    "ax_superposed = axes[1, 2]\n",
    "\n",
    "for data, color, label in zip(data_list, colors, labels):\n",
    "    ax_superposed.hist(data.flatten(), bins=1000, color=color, label=label)\n",
    "\n",
    "ax_superposed.set_xscale('log')\n",
    "ax_superposed.set_yscale('log')\n",
    "ax_superposed.set_xlabel('ADU', fontsize=10)\n",
    "ax_superposed.set_ylabel('N', fontsize=10)\n",
    "ax_superposed.set_title('Superposition des hist', fontsize=10)\n",
    "ax_superposed.grid()\n",
    "ax_superposed.legend()\n",
    "\n",
    "axes[0, 2].axis('off')\n",
    "\n",
    "plt.tight_layout()\n",
    "plt.show()\n"
   ]
  },
  {
   "cell_type": "code",
   "execution_count": null,
   "id": "76cc55c0",
   "metadata": {},
   "outputs": [],
   "source": [
    "# Charger une pose individuelle (exemple de la première image)\n",
    "bias_example = fits.getdata(list_bias_name[0])\n",
    "\n",
    "print(\"---- Pose individuelle ----\")\n",
    "print(f\"Moyenne : {np.mean(bias_example):.2f}\")\n",
    "print(f\"Ecart-type : {np.std(bias_example):.2f}\")\n",
    "\n",
    "print(\"---- Master Bias ----\")\n",
    "print(f\"Moyenne : {np.mean(master_bias):.2f}\")\n",
    "print(f\"Ecart-type : {np.std(master_bias):.2f}\")"
   ]
  },
  {
   "cell_type": "markdown",
   "id": "3c71354a",
   "metadata": {},
   "source": [
    "## 4. Pipeline de traitement"
   ]
  },
  {
   "cell_type": "code",
   "execution_count": null,
   "id": "1b94bf88",
   "metadata": {},
   "outputs": [],
   "source": [
    "# Chemin vers le master flat (choisissons Blue par exemple)\n",
    "master_flat_path = './flats_maitre/master_flat--Blue-T32.fits'\n",
    "\n",
    "# Ouvrir le fichier FITS\n",
    "flat_data = fits.getdata(master_flat_path)\n",
    "\n",
    "# Afficher l'image\n",
    "plt.figure(figsize=(10, 8))\n",
    "plt.imshow(flat_data, cmap='gray', origin='lower', vmin=np.percentile(flat_data, 5), vmax=np.percentile(flat_data, 95))\n",
    "plt.colorbar()\n",
    "plt.title('Master Flat - Blue')\n",
    "plt.axis('off')\n",
    "plt.grid(False)\n",
    "plt.show()"
   ]
  },
  {
   "cell_type": "code",
   "execution_count": null,
   "id": "1d2b3508",
   "metadata": {},
   "outputs": [],
   "source": [
    "# Moyenne des pixels\n",
    "mean_value = np.mean(flat_data)\n",
    "print(f\"Valeur moyenne des pixels du master flat : {mean_value:.4f}\")"
   ]
  },
  {
   "cell_type": "code",
   "execution_count": null,
   "id": "a4b06c03",
   "metadata": {},
   "outputs": [],
   "source": [
    "# Tracer l'histogramme\n",
    "plt.figure(figsize=(8, 6))\n",
    "plt.hist(flat_data.flatten(), bins=1000, color='blue')\n",
    "plt.title('Histogramme des valeurs du master flat')\n",
    "plt.xlabel('Valeur du pixel')\n",
    "plt.ylabel('Nombre de pixels')\n",
    "plt.grid(True)\n",
    "plt.show()\n"
   ]
  },
  {
   "cell_type": "code",
   "execution_count": null,
   "id": "9752d3d3",
   "metadata": {},
   "outputs": [],
   "source": [
    "# 1. Liste des fichiers Blue\n",
    "blue_images = sorted(glob.glob('./M83/M83-Blue-140-*.fit'))\n",
    "\n",
    "# 2. Chemins vers master bias et master flat\n",
    "master_bias = './Processed/masterbias.fits'\n",
    "master_flat_blue = './flats_maitre/master_flat--Blue-T32.fits'\n",
    "\n",
    "# 3. Output\n",
    "output_dir = './Processed/'\n",
    "out_name = 'M83_Blue_final_calibrated.fits'\n",
    "\n",
    "# 4. Stack et calibrage\n",
    "final_blue_image, saved_file = pr.stacking(blue_images, master_bias, master_flat_blue, out_name=out_name, out_dir=output_dir)\n",
    "\n",
    "print(f\"Image calibrée et stackée sauvegardée sous : {saved_file}\")"
   ]
  },
  {
   "cell_type": "code",
   "execution_count": null,
   "id": "3e222f7f",
   "metadata": {},
   "outputs": [],
   "source": [
    "\n",
    "# Ouvrir une image brute et l'image finale\n",
    "image_brute = fits.getdata('./M83/M83-Blue-140-001.fit')\n",
    "image_finale = fits.getdata('./Processed/M83_Blue_final_calibrated.fits')\n",
    "\n",
    "print(\"--- Pose individuelle ---\")\n",
    "print(f\"Moyenne : {np.mean(image_brute):.2f}\")\n",
    "print(f\"Ecart-type : {np.std(image_brute):.2f}\")\n",
    "\n",
    "print(\"--- Image finale stackée ---\")\n",
    "print(f\"Moyenne : {np.mean(image_finale):.2f}\")\n",
    "print(f\"Ecart-type : {np.std(image_finale):.2f}\")"
   ]
  },
  {
   "cell_type": "code",
   "execution_count": null,
   "id": "4414ccbb",
   "metadata": {},
   "outputs": [],
   "source": [
    "# Load the final calibrated image\n",
    "final_image_data = fits.getdata('./Processed/M83_Blue_final_calibrated.fits')\n",
    "\n",
    "# Plot the image\n",
    "plt.figure(figsize=(10, 8))\n",
    "plt.imshow(final_image_data, cmap='gray', origin='lower',\n",
    "           vmin=np.percentile(final_image_data, 50),\n",
    "           vmax=np.percentile(final_image_data, 99))\n",
    "plt.colorbar(label='ADU')\n",
    "plt.title('Final Calibrated and Stacked Image - Blue Filter')\n",
    "plt.axis('off')\n",
    "plt.grid(False)\n",
    "plt.show()\n"
   ]
  },
  {
   "cell_type": "code",
   "execution_count": null,
   "id": "b76f41dd",
   "metadata": {},
   "outputs": [],
   "source": [
    "def process_filter(filter_name, input_folder='./M83/', bias_path='./Processed/masterbias.fits',\n",
    "                   flat_folder='./flats_maitre/', output_folder='./Processed/'):\n",
    "\n",
    "    # 1. Créer la liste des fichiers pour ce filtre\n",
    "    pattern = os.path.join(input_folder, f'M83-{filter_name}-*.fit')\n",
    "    print('pattern', pattern)\n",
    "    file_list = sorted(glob.glob(pattern))\n",
    "\n",
    "    if not file_list:\n",
    "        print(f\"Aucun fichier trouvé pour le filtre {filter_name} !\")\n",
    "        return\n",
    "\n",
    "    print(f\"Trouvé {len(file_list)} fichiers pour le filtre {filter_name}.\")\n",
    "\n",
    "    # 2. Trouver le master flat correspondant\n",
    "    master_flat = os.path.join(flat_folder, f'master_flat--{filter_name}-T32.fits')\n",
    "\n",
    "    # 3. Définir le nom de l'image finale\n",
    "    output_name = f'M83_{filter_name}_final_calibrated.fits'\n",
    "\n",
    "    # 4. Appliquer stacking (calibration + empilement)\n",
    "    # 1. Master flat\n",
    "    # 2. Master bias\n",
    "    final_image, saved_path = pr.stacking(file_list, master_flat, bias_path,\n",
    "                                          out_name=output_name, out_dir=output_folder)\n",
    "    \n",
    "    return final_image, saved_path\n",
    "\n",
    "def get_initial_image(filter_name, input_folder='./M83/'):\n",
    "    # 1. Créer la liste des fichiers pour ce filtre\n",
    "    pattern = os.path.join(input_folder, f'M83-{filter_name}-*.fit')\n",
    "    file_list = sorted(glob.glob(pattern))\n",
    "\n",
    "    if not file_list:\n",
    "        print(f\"Aucun fichier trouvé pour le filtre {filter_name} !\")\n",
    "        return None\n",
    "\n",
    "    # 2. Charger la première image brute\n",
    "    initial_image = fits.getdata(file_list[0])\n",
    "    \n",
    "    return initial_image\n"
   ]
  },
  {
   "cell_type": "code",
   "execution_count": null,
   "id": "29090778",
   "metadata": {},
   "outputs": [],
   "source": [
    "import numpy as np\n",
    "import matplotlib.pyplot as plt\n",
    "\n",
    "def plot_images_and_histograms(filter_name, color_init='red', color_final='green'):\n",
    "    \"\"\"\n",
    "    Plots the initial and final images and their histograms for a given filter.\n",
    "    \n",
    "    Parameters:\n",
    "        filter_name (str): The filter name (e.g., 'Red', 'Blue', 'Green', 'HA').\n",
    "        color_init (str): Color for the initial image histogram.\n",
    "        color_final (str): Color for the final image histogram.\n",
    "    \"\"\"\n",
    "    # Load images\n",
    "    initial_image = get_initial_image(filter_name)\n",
    "    final_image, final_path = process_filter(filter_name)\n",
    "    \n",
    "    # Create figure and axes\n",
    "    fig, axes = plt.subplots(2, 2, figsize=(12, 8), gridspec_kw={'height_ratios': [2, 1]})\n",
    "    \n",
    "    # Initial image\n",
    "    im_init = axes[0, 0].imshow(initial_image, cmap='gray', origin='lower',\n",
    "                                vmin=np.percentile(initial_image, 5),\n",
    "                                vmax=np.percentile(initial_image, 99))\n",
    "    fig.colorbar(im_init, ax=axes[0, 0], pad=0.04, fraction=0.046)\n",
    "    axes[0, 0].set_title(f'Image brute - {filter_name}', fontsize=10)\n",
    "    axes[0, 0].axis('off')\n",
    "    \n",
    "    # Final image\n",
    "    im_final = axes[0, 1].imshow(final_image, cmap='gray', origin='lower',\n",
    "                                 vmin=np.percentile(final_image, 5),\n",
    "                                 vmax=np.percentile(final_image, 99))\n",
    "    fig.colorbar(im_final, ax=axes[0, 1], pad=0.04, fraction=0.046)\n",
    "    axes[0, 1].set_title(f'Image finale - {filter_name}', fontsize=10)\n",
    "    axes[0, 1].axis('off')\n",
    "    \n",
    "    # Initial histogram\n",
    "    axes[1, 0].hist(initial_image.flatten(), bins=1000, color=color_init)\n",
    "    axes[1, 0].set_xscale('log')\n",
    "    axes[1, 0].set_yscale('log')\n",
    "    axes[1, 0].set_xlabel('ADU')\n",
    "    axes[1, 0].set_ylabel('N')\n",
    "    axes[1, 0].set_title('Histogramme Image brute', fontsize=10)\n",
    "    axes[1, 0].grid()\n",
    "    \n",
    "    # Final histogram\n",
    "    axes[1, 1].hist(final_image.flatten(), bins=1000, color=color_final)\n",
    "    axes[1, 1].set_xscale('log')\n",
    "    axes[1, 1].set_yscale('log')\n",
    "    axes[1, 1].set_xlabel('ADU')\n",
    "    axes[1, 1].set_ylabel('N')\n",
    "    axes[1, 1].set_title('Histogramme Image finale', fontsize=10)\n",
    "    axes[1, 1].grid()\n",
    "    axes[1, 1].set_xlim(1e0, 1e5)\n",
    "    \n",
    "    plt.tight_layout()\n",
    "    plt.show()\n"
   ]
  },
  {
   "cell_type": "code",
   "execution_count": null,
   "id": "4f5f8e81",
   "metadata": {},
   "outputs": [],
   "source": [
    "plot_images_and_histograms('Red')\n",
    "plot_images_and_histograms('Blue')\n",
    "plot_images_and_histograms('Green')\n",
    "plot_images_and_histograms('HA')"
   ]
  },
  {
   "cell_type": "markdown",
   "id": "b14512a5",
   "metadata": {},
   "source": [
    "## 5. Photométrie : taille et luminosité"
   ]
  },
  {
   "cell_type": "code",
   "execution_count": null,
   "id": "1dc996ca",
   "metadata": {},
   "outputs": [],
   "source": [
    "# 6.2\n",
    "\n",
    "from astropy.io import fits\n",
    "import numpy as np\n",
    "import matplotlib.pyplot as plt\n",
    "from photutils.aperture import CircularAperture, aperture_photometry\n",
    "\n",
    "# Charger ton image finale calibrée\n",
    "image_data = fits.getdata('./Processed/M83_Red_final_calibrated.fits')  # Exemple avec Red\n",
    "\n",
    "# Définir le centre de la galaxie (à ajuster si besoin)\n",
    "x_center = 2048\n",
    "y_center = 2048\n",
    "positions = [(x_center, y_center)]\n",
    "\n",
    "# Définir différentes tailles d'ouverture (en pixels)\n",
    "radii = [50, 100, 150, 200, 250]  # Rayons en pixels\n",
    "\n",
    "# Faire des mesures d'ouverture\n",
    "for r in radii:\n",
    "    aperture = CircularAperture(positions, r=r)\n",
    "    phot_table = aperture_photometry(image_data, aperture)\n",
    "    flux = phot_table['aperture_sum'][0]\n",
    "    print(f\"Rayon : {r} pixels → Flux mesuré : {flux:.2f} ADU\")\n"
   ]
  },
  {
   "cell_type": "code",
   "execution_count": null,
   "id": "b0fc65ed",
   "metadata": {},
   "outputs": [],
   "source": [
    "# Photométrie simple avec photutils\n",
    "from photutils.aperture import CircularAperture, aperture_photometry\n",
    "\n",
    "positions = [(x0, y0)]  # centre de la galaxie\n",
    "radii = [10, 15, 20, 25, 30]  # à adapter\n",
    "\n",
    "for r in radii:\n",
    "    aperture = CircularAperture(positions, r=r)\n",
    "    phot_table = aperture_photometry(stacked_image, aperture)\n",
    "    print(f\"Rayon {r}: flux = {phot_table['aperture_sum']}\")"
   ]
  },
  {
   "cell_type": "markdown",
   "id": "12e913a9",
   "metadata": {},
   "source": [
    "## 6. Étude statistique loi taille-luminosité"
   ]
  },
  {
   "cell_type": "code",
   "execution_count": null,
   "id": "84f7a766",
   "metadata": {},
   "outputs": [],
   "source": [
    "# Exemple de tracé final\n",
    "luminosities = [...]  # µJy\n",
    "radii_kpc = [...]     # kpc\n",
    "types = [...]         # par exemple [\"spirale\", \"elliptique\", ...]\n",
    "\n",
    "plt.scatter(luminosities, radii_kpc, c=type_color_map[types], label=types)\n",
    "plt.xlabel(\"Luminosité (µJy)\")\n",
    "plt.ylabel(\"Rayon effectif (kpc)\")\n",
    "plt.title(\"Relation taille-luminosité\")\n",
    "plt.legend()\n",
    "plt.grid()\n",
    "plt.show()"
   ]
  },
  {
   "cell_type": "markdown",
   "id": "6b8e3dde",
   "metadata": {},
   "source": [
    "## 7. Discussion"
   ]
  },
  {
   "cell_type": "markdown",
   "id": "e8d6f656",
   "metadata": {},
   "source": [
    "- Incertitudes principales :\n",
    "  * fond de ciel\n",
    "  * étalonnage du point-zéro\n",
    "  * qualité des poses\n",
    "- Comportement selon le type morphologique ?\n",
    "- Alignement avec les résultats de Gadotti (2009) ?"
   ]
  }
 ],
 "metadata": {
  "kernelspec": {
   "display_name": "LU3PY232",
   "language": "python",
   "name": "python3"
  },
  "language_info": {
   "codemirror_mode": {
    "name": "ipython",
    "version": 3
   },
   "file_extension": ".py",
   "mimetype": "text/x-python",
   "name": "python",
   "nbconvert_exporter": "python",
   "pygments_lexer": "ipython3",
   "version": "3.12.2"
  }
 },
 "nbformat": 4,
 "nbformat_minor": 5
}
