{
 "cells": [
  {
   "cell_type": "code",
   "execution_count": 5,
   "id": "77ed80e6",
   "metadata": {},
   "outputs": [],
   "source": [
    "%load_ext autoreload\n",
    "%autoreload 2"
   ]
  },
  {
   "cell_type": "code",
   "execution_count": 2,
   "id": "561587e5",
   "metadata": {},
   "outputs": [],
   "source": [
    "import numpy as np\n",
    "import matplotlib\n",
    "import matplotlib.pyplot as plt\n",
    "from matplotlib.colors import LogNorm\n",
    "import os \n",
    "import glob\n",
    "#import astroalign as aa\n",
    "from astropy.io import fits\n",
    "from photutils import aperture_photometry, CircularAperture\n",
    "from photutils.centroids import centroid_quadratic\n",
    "import processing as  pr"
   ]
  },
  {
   "cell_type": "markdown",
   "id": "b7017371",
   "metadata": {},
   "source": []
  },
  {
   "cell_type": "code",
   "execution_count": 2,
   "id": "a19e4eee",
   "metadata": {},
   "outputs": [],
   "source": [
    "data_dir = \"/n07data/laigle/data_to_transf/\"\n",
    "output_dir = \"/n07data/laigle/M83_PROCESSED/\""
   ]
  },
  {
   "cell_type": "markdown",
   "id": "0b08d1d0",
   "metadata": {},
   "source": [
    "## 1. Calibration du master bias"
   ]
  },
  {
   "cell_type": "markdown",
   "id": "4851f587",
   "metadata": {},
   "source": [
    "#### recuperer la liste des poses individuelles de bias"
   ]
  },
  {
   "cell_type": "code",
   "execution_count": 3,
   "id": "ffb8bb1e",
   "metadata": {},
   "outputs": [],
   "source": [
    "list_bias_name = glob.glob('chemin/vers/les/poses/individuelles/de/bias/*')"
   ]
  },
  {
   "cell_type": "markdown",
   "id": "3dd0c679",
   "metadata": {},
   "source": [
    "#### generer le master bias et le sauver au format fits"
   ]
  },
  {
   "cell_type": "code",
   "execution_count": null,
   "id": "018afa9f",
   "metadata": {},
   "outputs": [],
   "source": [
    "master_bias, master_bias_name = pr.master_bias(list_bias_name, out_dir =output_dir,\n",
    "                             out_name = 'masterbias.fits', overwrite = 1)"
   ]
  },
  {
   "cell_type": "markdown",
   "id": "20afe9b2",
   "metadata": {},
   "source": [
    "## 2. Ouvrir le master flat dans le filtre rouge"
   ]
  },
  {
   "cell_type": "markdown",
   "id": "e97f297b",
   "metadata": {},
   "source": [
    "## 3. Traitement des images dans le filtre rouge"
   ]
  },
  {
   "cell_type": "markdown",
   "id": "263d78a2",
   "metadata": {},
   "source": [
    "####  recuperer la liste des poses individuelles des images sciences"
   ]
  },
  {
   "cell_type": "code",
   "execution_count": 4,
   "id": "da5ddc2b",
   "metadata": {},
   "outputs": [],
   "source": [
    "list_images_red_name = glob.glob('chemin/vers/les/poses/individuelles/sciences/red/*')"
   ]
  },
  {
   "cell_type": "markdown",
   "id": "66401a06",
   "metadata": {},
   "source": [
    "####  nom des fichiers contenant les poses maitres de calibration"
   ]
  },
  {
   "cell_type": "code",
   "execution_count": null,
   "id": "a248b1a9",
   "metadata": {},
   "outputs": [],
   "source": [
    "master_bias_name = '/chemin/pour/sauver/le/masterbias.fits'\n",
    "master_flat_name_red = '/chemin/pour/sauver/le/masterflatred.fits'"
   ]
  },
  {
   "cell_type": "markdown",
   "id": "92d31b67",
   "metadata": {},
   "source": [
    "#### generer l'image finale et la sauvegarder au format fits"
   ]
  },
  {
   "cell_type": "code",
   "execution_count": null,
   "id": "cc6e9b12",
   "metadata": {},
   "outputs": [],
   "source": [
    "final_image_red,final_image_red_name = pr.stacking(list_images_red_name, master_bias_name, master_flat_red_name\n",
    "                           , out_dir = output_dir, out_name = 'image_finale_red.fits'\n",
    "                           , overwrite = 1)"
   ]
  },
  {
   "cell_type": "markdown",
   "id": "6a6fa57e",
   "metadata": {},
   "source": [
    "## 4. photométrie d'ouverture"
   ]
  },
  {
   "cell_type": "code",
   "execution_count": null,
   "id": "7a10ea3b",
   "metadata": {},
   "outputs": [],
   "source": [
    "from photutils.detection import DAOStarFinder\n",
    "from photutils import aperture_photometry, CircularAperture\n",
    "from photutils.centroids import centroid_quadratic\n",
    "\n",
    "positions = centroid_quadratic(final_image_red, xpeak=2040, ypeak=2200,search_boxsize = 400)\n",
    "apertures = CircularAperture(positions, r=aperture_radius)  \n"
   ]
  }
 ],
 "metadata": {
  "kernelspec": {
   "display_name": "Python 3 (ipykernel)",
   "language": "python",
   "name": "python3"
  },
  "language_info": {
   "codemirror_mode": {
    "name": "ipython",
    "version": 3
   },
   "file_extension": ".py",
   "mimetype": "text/x-python",
   "name": "python",
   "nbconvert_exporter": "python",
   "pygments_lexer": "ipython3",
   "version": "3.7.13"
  }
 },
 "nbformat": 4,
 "nbformat_minor": 5
}
