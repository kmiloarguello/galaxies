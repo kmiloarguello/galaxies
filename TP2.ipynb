{
 "cells": [
  {
   "cell_type": "code",
   "execution_count": 5,
   "id": "77ed80e6",
   "metadata": {},
   "outputs": [],
   "source": [
    "%load_ext autoreload\n",
    "%autoreload 2"
   ]
  },
  {
   "cell_type": "code",
   "execution_count": 1,
   "id": "561587e5",
   "metadata": {},
   "outputs": [],
   "source": [
    "import numpy as np\n",
    "import matplotlib\n",
    "import matplotlib.pyplot as plt\n",
    "from matplotlib.colors import LogNorm\n",
    "import os \n",
    "import glob\n",
    "#import astroalign as aa\n",
    "from astropy.io import fits\n",
    "\n",
    "import processing as  pr"
   ]
  },
  {
   "cell_type": "markdown",
   "id": "b7017371",
   "metadata": {},
   "source": []
  },
  {
   "cell_type": "markdown",
   "id": "b2e119e4",
   "metadata": {},
   "source": [
    "### Votre notebook executant le traitement des images doit ressembler à ca .....\n",
    "\n",
    "\n"
   ]
  },
  {
   "cell_type": "code",
   "execution_count": 2,
   "id": "a19e4eee",
   "metadata": {},
   "outputs": [],
   "source": [
    "data_dir = \"/n07data/laigle/data_to_transf/\"\n",
    "output_dir = \"/n07data/laigle/M83_PROCESSED/\""
   ]
  },
  {
   "cell_type": "markdown",
   "id": "0b08d1d0",
   "metadata": {},
   "source": [
    "## 1. Calibration du master bias"
   ]
  },
  {
   "cell_type": "markdown",
   "id": "4851f587",
   "metadata": {},
   "source": [
    "#### recuperer la liste des poses individuelles de bias"
   ]
  },
  {
   "cell_type": "code",
   "execution_count": 3,
   "id": "ffb8bb1e",
   "metadata": {},
   "outputs": [],
   "source": [
    "list_bias_name = glob.glob('chemin/vers/les/poses/individuelles/de/bias/*')"
   ]
  },
  {
   "cell_type": "markdown",
   "id": "3dd0c679",
   "metadata": {},
   "source": [
    "#### generer le master bias et le sauver au format fits"
   ]
  },
  {
   "cell_type": "code",
   "execution_count": null,
   "id": "018afa9f",
   "metadata": {},
   "outputs": [],
   "source": [
    "master_bias = pr.master_bias(list_bias_name, out_dir ='/chemin/pour/sauver/le/',\n",
    "                             out_name = 'masterbias.fits', overwrite = 1)"
   ]
  },
  {
   "cell_type": "markdown",
   "id": "c26571a1",
   "metadata": {},
   "source": [
    "## 2. Calibration du master flat rouge"
   ]
  },
  {
   "cell_type": "markdown",
   "id": "353ac208",
   "metadata": {},
   "source": [
    "####  recuperer la liste des poses individuelles de flats rouges"
   ]
  },
  {
   "cell_type": "code",
   "execution_count": null,
   "id": "d676258a",
   "metadata": {},
   "outputs": [],
   "source": [
    "list_flat_red_name = glob.glob('chemin/vers/les/poses/individuelles/de/flat/red/*')"
   ]
  },
  {
   "cell_type": "markdown",
   "id": "c48397f5",
   "metadata": {},
   "source": [
    "####  nom du fichier contenant le master bias qui a ete generé juste avant"
   ]
  },
  {
   "cell_type": "code",
   "execution_count": null,
   "id": "e13c2e1e",
   "metadata": {},
   "outputs": [],
   "source": [
    "master_bias_name = '/chemin/pour/sauver/le/masterbias.fits'"
   ]
  },
  {
   "cell_type": "markdown",
   "id": "cdfcaa1e",
   "metadata": {},
   "source": [
    "#### generer le master flat et le sauver au format fits"
   ]
  },
  {
   "cell_type": "code",
   "execution_count": null,
   "id": "ac059733",
   "metadata": {},
   "outputs": [],
   "source": [
    "master_flat_red = pr.master_flat(list_flat_red_name, master_bias_name, out_dir ='/chemin/pour/sauver/le/'\n",
    "                                 , out_name = 'masterflatred.fits', overwrite = 1)"
   ]
  },
  {
   "cell_type": "markdown",
   "id": "2f0ff1c5",
   "metadata": {},
   "source": [
    "on peut ensuite generer de la meme maniere les master flat en Ha, et eventuellement dans les autres filtres disponibles ..."
   ]
  },
  {
   "cell_type": "markdown",
   "id": "e97f297b",
   "metadata": {},
   "source": [
    "## 3. Traitement des images dans le filtre rouge"
   ]
  },
  {
   "cell_type": "markdown",
   "id": "263d78a2",
   "metadata": {},
   "source": [
    "####  recuperer la liste des poses individuelles des images sciences"
   ]
  },
  {
   "cell_type": "code",
   "execution_count": 4,
   "id": "da5ddc2b",
   "metadata": {},
   "outputs": [],
   "source": [
    "list_images_red_name = glob.glob('chemin/vers/les/poses/individuelles/sciences/red/*')"
   ]
  },
  {
   "cell_type": "markdown",
   "id": "66401a06",
   "metadata": {},
   "source": [
    "####  nom des fichiers contenant les poses maitres de calibration"
   ]
  },
  {
   "cell_type": "code",
   "execution_count": null,
   "id": "a248b1a9",
   "metadata": {},
   "outputs": [],
   "source": [
    "master_bias_name = '/chemin/pour/sauver/le/masterbias.fits'\n",
    "master_flat_name_red = '/chemin/pour/sauver/le/masterflatred.fits'"
   ]
  },
  {
   "cell_type": "markdown",
   "id": "92d31b67",
   "metadata": {},
   "source": [
    "#### generer l'image finale et la sauvegarder au format fits"
   ]
  },
  {
   "cell_type": "code",
   "execution_count": null,
   "id": "cc6e9b12",
   "metadata": {},
   "outputs": [],
   "source": [
    "final_image_red = stacking(list_images_red_name, master_bias_name, master_flat_name_red\n",
    "                           , out_dir = '/chemin/pour/sauver/l/', out_name = 'image_finale_red.fits'\n",
    "                           , overwrite = 1)"
   ]
  },
  {
   "cell_type": "markdown",
   "id": "9447b8d1",
   "metadata": {},
   "source": [
    "## 4. Mesure du profil radial de la galaxie"
   ]
  },
  {
   "cell_type": "code",
   "execution_count": null,
   "id": "1ef12c41",
   "metadata": {},
   "outputs": [],
   "source": [
    "from photutils.centroids import centroid_quadratic\n",
    "\n",
    "## xpeak and ypeak are the approximate position of the centroid\n",
    "xycen = centroid_quadratic(final_image_red, xpeak=2040, ypeak=2080,search_boxsize = 100)\n",
    "\n",
    "## afficher l'image et y superposer le centroid pour verifier qu'il a bien ete determiné."
   ]
  },
  {
   "cell_type": "code",
   "execution_count": null,
   "id": "91f18e88",
   "metadata": {},
   "outputs": [],
   "source": [
    "## calcul du profil radial\n",
    "\n",
    "edge_radii = np.arange(400)\n",
    "rp,pp,errp = pr.RadialProfile(image, xycen, edge_radii)\n",
    "\n",
    "\n",
    "## tracer le profil radial ainsi determiné. convertir les pixels en unité sur le ciel (arcsec), puis en kpc.\n",
    "## Comparer à un profil exponentiel : \n",
    "\n",
    "plt.plot(rp,pp)\n",
    "plt.errorbar(rp,pp,yerr = errp)\n",
    "\n",
    "a = \n",
    "b = \n",
    "rp, pp2 = pr.ExponentialProfile(rp, a,b,0)\n",
    "\n",
    "plt.plot(rp, pp2)\n",
    "\n",
    "a =\n",
    "b = \n",
    "c = \n",
    "\n",
    "rp, pp2 = pr.ExponentialProfile(rp, a,b,100)\n",
    "\n",
    "plt.plot(rp, pp2)\n",
    "axes = plt.gca()\n",
    "axes.set_yscale('log')\n"
   ]
  },
  {
   "cell_type": "markdown",
   "id": "af2a3071",
   "metadata": {},
   "source": [
    "## 5. Mesure de la PSF des etoiles\n",
    "\n",
    "#### explorer https://photutils.readthedocs.io/en/stable/index.html et essayer de mesurer la fonction d'etalement du point des etoiles"
   ]
  },
  {
   "cell_type": "code",
   "execution_count": null,
   "id": "8fa54e5a",
   "metadata": {},
   "outputs": [],
   "source": [
    "from photutils.detection import DAOStarFinder\n",
    "\n",
    "from astropy.stats import mad_std\n",
    "\n",
    "bkg_sigma = mad_std(image)\n",
    "daofind = DAOStarFinder(fwhm=4.0, threshold=3.0 * bkg_sigma)  \n",
    "sources = daofind(image) \n",
    "for col in sources.colnames:  \n",
    "    sources[col].info.format = '%.8g'  # for consistent table output\n",
    "print(sources)  "
   ]
  }
 ],
 "metadata": {
  "kernelspec": {
   "display_name": "Python 3 (ipykernel)",
   "language": "python",
   "name": "python3"
  },
  "language_info": {
   "codemirror_mode": {
    "name": "ipython",
    "version": 3
   },
   "file_extension": ".py",
   "mimetype": "text/x-python",
   "name": "python",
   "nbconvert_exporter": "python",
   "pygments_lexer": "ipython3",
   "version": "3.7.13"
  }
 },
 "nbformat": 4,
 "nbformat_minor": 5
}
